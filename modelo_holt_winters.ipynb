{
  "nbformat": 4,
  "nbformat_minor": 0,
  "metadata": {
    "colab": {
      "name": "modelo_holt_winters.ipynb",
      "provenance": [],
      "collapsed_sections": [],
      "authorship_tag": "ABX9TyMGrerf0FgGpKBBE704UPs2",
      "include_colab_link": true
    },
    "kernelspec": {
      "name": "python3",
      "display_name": "Python 3"
    },
    "language_info": {
      "name": "python"
    }
  },
  "cells": [
    {
      "cell_type": "markdown",
      "metadata": {
        "id": "view-in-github",
        "colab_type": "text"
      },
      "source": [
        "<a href=\"https://colab.research.google.com/github/daniellybx/bioest_aplicada_r/blob/main/modelo_holt_winters.ipynb\" target=\"_parent\"><img src=\"https://colab.research.google.com/assets/colab-badge.svg\" alt=\"Open In Colab\"/></a>"
      ]
    },
    {
      "cell_type": "markdown",
      "source": [
        "# Análise de séries temporais Holt-Winters"
      ],
      "metadata": {
        "id": "YpPLvy3zHzLo"
      }
    },
    {
      "cell_type": "code",
      "source": [
        "#IMPORTANDO PACOTES UTILIZADOS\n",
        "import pickle\n",
        "import os\n",
        "\n",
        "import matplotlib as mpl\n",
        "import matplotlib.pyplot as plt\n",
        "import numpy as np\n",
        "import pandas as pd\n",
        "import seaborn as sns\n",
        "\n",
        "from dateutil.parser import parse \n",
        "from pandas.plotting import autocorrelation_plot, lag_plot\n",
        "from pandas.api.types import CategoricalDtype\n",
        "from statsmodels.tsa.seasonal import seasonal_decompose\n",
        "from statsmodels.tsa.stattools import adfuller, kpss, acf, pacf\n",
        "from statsmodels.graphics.tsaplots import plot_acf, plot_pacf"
      ],
      "metadata": {
        "id": "TnwbPgscH5Ym"
      },
      "execution_count": null,
      "outputs": []
    },
    {
      "cell_type": "code",
      "source": [
        "#IMPORTANDO DADOS\n",
        "serie = pd.read_csv(os.path.expanduser('incluir_csv_aqui.csv'), parse_dates =['variavel_data'])\n",
        "serie.info(), serie.head()"
      ],
      "metadata": {
        "id": "8cn7XbN6H75Z"
      },
      "execution_count": null,
      "outputs": []
    },
    {
      "cell_type": "code",
      "source": [
        "#PLOTANDO GRÁFICO COM VALORES POR DIA\n",
        "tab = pd.DataFrame(serie.groupby('variavel_data')['variavel_frequencia'].sum())\n",
        "\n",
        "sns.set(rc={'figure.figsize':(17, 10)})\n",
        "sns.set_theme()\n",
        "line = sns.lineplot(data = tab, x = tab.index, y = 'variavel_frequencia')\n",
        "line.set(xlabel='Data', ylabel='Deals', title= \"Número de deals por dia\")"
      ],
      "metadata": {
        "id": "mad6SxnQIFkt"
      },
      "execution_count": null,
      "outputs": []
    },
    {
      "cell_type": "code",
      "source": [
        "#AGRUPANDO DADOS POR SEMANA E POR MÊS\n",
        "tab2 = tab.copy()\n",
        "tab2 = tab2.reset_index()\n",
        "tab2['week_day'] = tab2['variavel_data'].dt.weekday \n",
        "tab2['week'] = tab2['variavel_data'].dt.strftime('%Y-w%U')\n",
        "tab2['month'] = [d.strftime('%m') for d in tab2.variavel_data]"
      ],
      "metadata": {
        "id": "5iRvGcnRIShe"
      },
      "execution_count": null,
      "outputs": []
    },
    {
      "cell_type": "code",
      "source": [
        "#CRIANDO BOXPLOT DA DISTRIBUICAO DE DIÁRIA\n",
        "sns.set(rc={'figure.figsize':(5, 4)})\n",
        "sns.set_theme()\n",
        "box = sns.boxplot(y=\"variavel_frequencia\", data=tab2)\n",
        "box.set(xlabel='', ylabel='Frequência', title= \"Distribuição por dia\")"
      ],
      "metadata": {
        "id": "9l2qU0wDIXLs"
      },
      "execution_count": null,
      "outputs": []
    },
    {
      "cell_type": "code",
      "source": [
        "#REMOVENDO OUTLIERS SUPERIORES (>99%)\n",
        "mean = tab2.loc[tab2['variavel_frequencia'] < tab2['variavel_frequencia'].quantile(0.99)].mean()\n",
        "tab2.loc[tab2['variavel_frequencia'] > tab2['variavel_frequencia'].quantile(0.99)] = np.nan\n",
        "tab2.fillna(mean, inplace=True)\n",
        "\n",
        "tab3 = tab2.copy()\n",
        "tab3['week'] = tab3['variavel_data'].dt.strftime('%U')\n",
        "tab3 = tab3.set_index(['variavel_data'])\n",
        "\n",
        "#CRIANDO BOXPLOT DA DISTRIBUICAO POR DIA\n",
        "sns.set(rc={'figure.figsize':(5, 4)})\n",
        "sns.set_theme()\n",
        "box = sns.boxplot(y=\"variavel_frequencia\", data=tab3)\n",
        "box.set(xlabel='', ylabel='Frequência', title= \"Distribuição por dia\")"
      ],
      "metadata": {
        "id": "_20FJxvyIjfJ"
      },
      "execution_count": null,
      "outputs": []
    },
    {
      "cell_type": "code",
      "source": [
        "#DESENHANDO UM GRÁFICO DE LINHAS POR SEMANA (INCLUIR MÊS SE FOR O CASO)\n",
        "weeks = tab3['week'].unique()\n",
        "np.random.seed(100)\n",
        "mycolors = np.random.choice(list(mpl.colors.XKCD_COLORS.keys()), len(weeks), replace=False)\n",
        "\n",
        "dict_week = {0:'Segunda', 1:'Terça', 2:'Quarta', 3:'Quinta', 4:'Sexta', 5:'Sábado', 6:'Domingo'} \n",
        "tab3['weeks'] = tab3['week_day'].replace(dict_week)\n",
        "\n",
        "plt.figure(figsize=(17, 10), dpi= 80)\n",
        "\n",
        "for i, y in enumerate(weeks):\n",
        "    if i > 0:        \n",
        "        plt.plot('weeks', 'variavel_frequencia', data=tab3.loc[tab3.week==y, :], color=mycolors[i], label=y)\n",
        "\n",
        "# Decoration\n",
        "plt.gca().set(xlim=(0, 6), ylim=(0, 90), ylabel='$variavel_frequencia$', xlabel='Dia da semana')\n",
        "plt.yticks(fontsize=12, alpha=.7)\n",
        "plt.title(\"Tendências semanais\", fontsize=20)\n",
        "plt.show()"
      ],
      "metadata": {
        "id": "_cmIfQ4KIwWk"
      },
      "execution_count": null,
      "outputs": []
    },
    {
      "cell_type": "code",
      "source": [
        "#DESENHANDO UM GRÁFICO DE LINHAS POR MÊS\n",
        "months = tab2['month'].unique()\n",
        "np.random.seed(100)\n",
        "mycolors = np.random.choice(list(mpl.colors.XKCD_COLORS.keys()), len(months), replace=False)\n",
        "\n",
        "plt.figure(figsize=(17, 10), dpi= 80)\n",
        "\n",
        "for i, y in enumerate(weeks):\n",
        "    if i > 0:        \n",
        "        plt.plot('month', 'variavel_frequencia', data=tab2.loc[tab2.month==y, :], color=mycolors[i], label=y)\n",
        "\n",
        "# Decoration\n",
        "plt.gca().set(xlim=(0, 6), ylim=(0, 90), ylabel='$variavel_frequencia$', xlabel='Mês')\n",
        "plt.yticks(fontsize=12, alpha=.7)\n",
        "plt.title(\"Tendências mensais\", fontsize=20)\n",
        "plt.show()"
      ],
      "metadata": {
        "id": "m_VtmLRZJMdF"
      },
      "execution_count": null,
      "outputs": []
    },
    {
      "cell_type": "code",
      "source": [
        "#BOXPLOT COM DISPERSÃO POR SEMANA E MÊS\n",
        "fig, axes = plt.subplots(1, 2, figsize=(20,7), dpi= 80)\n",
        "\n",
        "box_week = sns.boxplot(x='week', y='variavel_frequencia', data=tab3, ax=axes[0])\n",
        "box_day = sns.boxplot(x='weeks', y='variavel_frequencia', data=tab3, order = ['Domingo', 'Segunda', 'Terça', 'Quarta', 'Quinta', 'Sexta', 'Sábado'], ax=axes[1])\n",
        "\n",
        "box_week.set(ylabel='variavel_frequencia', xlabel='Semana do ano', title= \"Distribuição semana do ano\") \n",
        "box_day.set(ylabel='variavel_frequencia', xlabel='Dia da semana', title= \"Distribuição dia da semana\") \n",
        "plt.show()"
      ],
      "metadata": {
        "id": "t3TnglvmJt_3"
      },
      "execution_count": null,
      "outputs": []
    },
    {
      "cell_type": "code",
      "source": [
        "#DECOMPONDO OS COMPONENTES DA SÉRIE\n",
        "# tab_mul = seasonal_decompose(tab['total_deals'], model='multiplicative', extrapolate_trend='freq')\n",
        "tab_add = seasonal_decompose(tab['total_deals'], model='additive', extrapolate_trend='freq')"
      ],
      "metadata": {
        "id": "yCnMz7RiJ1Pb"
      },
      "execution_count": null,
      "outputs": []
    },
    {
      "cell_type": "markdown",
      "source": [
        "### Treinando um modelo de séries temporais Holt-Winters"
      ],
      "metadata": {
        "id": "Ic0imyhGJ7BC"
      }
    },
    {
      "cell_type": "code",
      "source": [
        "#PLOTANDO OS GRÁFICOS DA DECOMPOSIÇÃO\n",
        "#tab_mul.plot().suptitle('Multiplicativo')\n",
        "tab_add.plot().suptitle('Aditivo')\n",
        "plt.show()"
      ],
      "metadata": {
        "id": "UF2qPUjrKBkx"
      },
      "execution_count": null,
      "outputs": []
    },
    {
      "cell_type": "code",
      "source": [
        "#EXTRAINDO OS COMPONETES DA SÉRIE \n",
        "## ESCOLHA DE SÉRIE ADITIVA COM BASE NOS RESÍDUOS MAIS PRÓXIMOS DE 0\n",
        "tab_ts_add = pd.concat([round(tab_add.seasonal,1), round(tab_add.trend,1), round(tab_add.resid,1), round(tab_add.observed,1)], axis=1)\n",
        "tab_ts_add.columns = ['sazonalidade', 'tendencia', 'residuos', 'total_deals']\n",
        "tab_ts_add.head()"
      ],
      "metadata": {
        "id": "SzneYFLMKCTB"
      },
      "execution_count": null,
      "outputs": []
    },
    {
      "cell_type": "code",
      "source": [
        "#TESTANDO ESTACIONARIEDADE DA SÉRIE \n",
        "\n",
        "# ADF Test\n",
        "## H0 = ST possui raiz unitária e é não estacionária\n",
        "result = adfuller(tab.total_deals, autolag='AIC')\n",
        "print(f'ADF Statistic: {result[0]}')\n",
        "print(f'p-value: {result[1]}')\n",
        "for key, value in result[4].items():\n",
        "    print('Critial Values:')\n",
        "    print(f'   {key}, {value}')"
      ],
      "metadata": {
        "id": "0SS1AZdCKF-V"
      },
      "execution_count": null,
      "outputs": []
    },
    {
      "cell_type": "code",
      "source": [
        "#TESTANDO A SAZONALIDADE \n",
        "plt.rcParams.update({'figure.figsize':(7,4), 'figure.dpi':120})\n",
        "autocorrelation_plot(tab.total_deals.tolist())"
      ],
      "metadata": {
        "id": "d6WTGeZxKHn1"
      },
      "execution_count": null,
      "outputs": []
    },
    {
      "cell_type": "code",
      "source": [
        "#AUTOCORRELAÇÃO E AUTOCORRELAÇÃO PARCIAL\n",
        "fig, axes = plt.subplots(1,2, figsize=(17,5), dpi= 100)\n",
        "plot_acf(tab.total_deals.tolist(), lags=50, ax=axes[0])\n",
        "plot_pacf(tab.total_deals.tolist(), lags=50, ax=axes[1])\n",
        "plt.show()"
      ],
      "metadata": {
        "id": "A_dCgyisKJBj"
      },
      "execution_count": null,
      "outputs": []
    },
    {
      "cell_type": "code",
      "source": [
        "#LAG PLOTS\n",
        "plt.rcParams.update({'ytick.left' : False, 'axes.titlepad':10})\n",
        "\n",
        "# Plot\n",
        "fig, axes = plt.subplots(1, 4, figsize=(10,3), sharex=True, sharey=True, dpi=100)\n",
        "\n",
        "for i, ax in enumerate(axes.flatten()[:4]):\n",
        "    lag_plot(tab.total_deals, lag=i+1, ax=ax, c='firebrick')\n",
        "    ax.set_title('Lag ' + str(i+1))\n",
        "\n",
        "fig.suptitle('Lag Plots para o total de deals iClinic', y=1.15)    "
      ],
      "metadata": {
        "id": "Vqgj8i0jKKvy"
      },
      "execution_count": null,
      "outputs": []
    },
    {
      "cell_type": "markdown",
      "source": [
        "### Predição com modelo Holt-Winters"
      ],
      "metadata": {
        "id": "WOGXLYrTKN3A"
      }
    },
    {
      "cell_type": "code",
      "source": [
        "#IMPORTANDO PACOTES\n",
        "from statsmodels.tsa.holtwinters import SimpleExpSmoothing   \n",
        "from statsmodels.tsa.holtwinters import ExponentialSmoothing\n",
        "from sklearn.metrics import mean_absolute_error,mean_squared_error"
      ],
      "metadata": {
        "id": "xtzEB2cEKPON"
      },
      "execution_count": null,
      "outputs": []
    },
    {
      "cell_type": "code",
      "source": [
        "#DEFININDO TREINO E TESTE\n",
        "tab_modelo = pd.DataFrame(tab['total_deals'].copy())\n",
        "train = tab_modelo[:150] #INCLUIR NÚMERO DE OBSERVAÇOES ATÉ 70%\n",
        "test = tab_modelo[150:] #INCLUIR NÚMERO DE OBSERVAÇOES MAIORES DE 70%"
      ],
      "metadata": {
        "id": "a8WcRol4KRAj"
      },
      "execution_count": null,
      "outputs": []
    },
    {
      "cell_type": "code",
      "source": [
        "#ESCOLHENDO MODELO FINAL \n",
        "fitted_model = ExponentialSmoothing(train['total_deals'], \n",
        "                                    seasonal= 'add', \n",
        "                                    trend = 'add', \n",
        "                                    seasonal_periods=7\n",
        "                                    ).fit()\n",
        "\n",
        "simulations = fitted_model.simulate(28, repetitions=1000, error=\"add\")\n",
        "\n",
        "plt.figure(figsize=(17, 10), dpi= 80)\n",
        "\n",
        "test_predictions = fitted_model.forecast(28)\n",
        "train['variavel_frequencia'].plot(legend=True,label='Treinamento')\n",
        "test['variavel_frequencia'].plot(legend=True,label='Teste',figsize=(6,4))\n",
        "test_predictions.plot(legend=True,label='Predição')\n",
        "plt.title('Treino, teste e predição modelo Holt Winters')"
      ],
      "metadata": {
        "id": "p1lUHoKZKeCk"
      },
      "execution_count": null,
      "outputs": []
    },
    {
      "cell_type": "code",
      "source": [
        "ax = train.plot(\n",
        "    figsize=(10, 6),\n",
        "    marker=\"o\",\n",
        "    color=\"black\",\n",
        "    title=\"Predição e simulações para modelo aditivo Holt-Winters\",\n",
        ")\n",
        "\n",
        "ax.set_ylabel(\"Nome da Frequencia\")\n",
        "ax.set_xlabel(\"Mês\")\n",
        "fitted_model.fittedvalues.plot(ax=ax, style=\"--\", color=\"green\")\n",
        "simulations.plot(ax=ax, style=\"-\", alpha=0.05, color=\"grey\", legend=False)\n",
        "fitted_model.forecast(28).rename(\"Holt-Winters\").plot(\n",
        "    ax=ax, style=\"--\", marker=\"o\", color=\"green\", legend=True\n",
        ")\n",
        "plt.show()"
      ],
      "metadata": {
        "id": "oULIQX8OKhek"
      },
      "execution_count": null,
      "outputs": []
    },
    {
      "cell_type": "code",
      "source": [
        "#INTERVALO DE CONFIANCA\n",
        "upper_ci = simulations.quantile(q=0.95, axis='columns')\n",
        "lower_ci = simulations.quantile(q=0.05, axis='columns')"
      ],
      "metadata": {
        "id": "N5vRgfaMKqKM"
      },
      "execution_count": null,
      "outputs": []
    },
    {
      "cell_type": "code",
      "source": [
        "#RESULTADOS DO MODELO\n",
        "print(fitted_model.summary())"
      ],
      "metadata": {
        "id": "8LUzJs1uKvCL"
      },
      "execution_count": null,
      "outputs": []
    },
    {
      "cell_type": "code",
      "source": [
        "#RESULTADOS\n",
        "test['valor_estimado'] = round(test_predictions)\n",
        "test['menor_valor_esperado_95'] = round(lower_ci)\n",
        "test['menor_valor_esperado_95'] = np.where((test['menor_valor_esperado_95'] < 0), 0, test['menor_valor_esperado_95'])\n",
        "test['maior_valor_esperado_95'] = round(upper_ci)\n",
        "test['true_value'] = np.where((test['variavel_frequencia'] >= test['menor_valor_esperado_95']) & (test['variavel_frequencia'] <= test['maior_valor_esperado_95']), 1, 0)\n",
        "test['dia_semana'] = test.index\n",
        "test['dia_semana'] = test['dia_semana'].dt.weekday \n",
        "test['dia_semana'] = test['dia_semana'].replace(dict_week)"
      ],
      "metadata": {
        "id": "cFp58ywVKx7U"
      },
      "execution_count": null,
      "outputs": []
    },
    {
      "cell_type": "code",
      "source": [
        "#ERROS QUADRADOS DA PREDIÇÃO \n",
        "deals = test['variavel_frequencia']\n",
        "pred = test['valor_estimado']\n",
        "print(f'Mean Absolute Error = {mean_absolute_error(deals, pred)}')\n",
        "print(f'Mean Squared Error = {mean_squared_error(deals, pred)}')"
      ],
      "metadata": {
        "id": "sQOIKBnCK6YE"
      },
      "execution_count": null,
      "outputs": []
    },
    {
      "cell_type": "code",
      "source": [
        "#MÉDIA ESPERADA POR DIA DA SEMANA\n",
        "days = CategoricalDtype(categories= ['Domingo', 'Segunda', 'Terça', 'Quarta', 'Quinta', 'Sexta', 'Sábado'], ordered=True)\n",
        "test['dia_semana'] = test['dia_semana'].astype(days)\n",
        "mean_day_week = test.groupby('dia_semana')[['valor_estimado', 'menor_valor_esperado_95', 'maior_valor_esperado_95']].agg(['mean','std']).round(1)\n",
        "mean_day_week"
      ],
      "metadata": {
        "id": "r2Cqlar8K7u1"
      },
      "execution_count": null,
      "outputs": []
    },
    {
      "cell_type": "code",
      "source": [
        "#SALVANDO O MODELO EM PKG\n",
        "with open(\"modelo_final.pkg\", 'wb') as file:  \n",
        "    pickle.dump(fitted_model, file)"
      ],
      "metadata": {
        "id": "4zJkSxZTK94w"
      },
      "execution_count": null,
      "outputs": []
    }
  ]
}